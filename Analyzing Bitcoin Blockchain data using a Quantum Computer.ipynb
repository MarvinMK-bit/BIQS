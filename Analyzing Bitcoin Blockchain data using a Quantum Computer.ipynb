{
 "cells": [
  {
   "cell_type": "code",
   "execution_count": 1,
   "id": "d55af206",
   "metadata": {},
   "outputs": [
    {
     "name": "stdout",
     "output_type": "stream",
     "text": [
      "<class 'list'>\n",
      "{'avgHeight': 805941, 'timestamp': 1693687890, 'avgFees': 11126748, 'USD': 25823}\n",
      "{'avgHeight': 805957, 'timestamp': 1693700059, 'avgFees': 12949401, 'USD': 25850}\n",
      "805941\n",
      "374\n",
      "\n",
      "[805941, 805944, 805946, 805949, 805951, 805952, 805954, 805957]\n"
     ]
    }
   ],
   "source": [
    "import requests\n",
    "import json\n",
    "\n",
    "URL = \"https://mempool.space/api/v1/mining/blocks/fees/1w\"\n",
    "page = requests.get(URL).text\n",
    "\n",
    "page_json = json.loads(page)\n",
    "# print(json.dumps(dictionary, indent=4))\n",
    "print(type(page_json))\n",
    "\n",
    "print(page_json[0])\n",
    "print(page_json[7])\n",
    "x = page_json[0]\n",
    "print(x['avgHeight'])\n",
    "print(len(page_json))\n",
    "print()\n",
    "\n",
    "l = []\n",
    "i = 0\n",
    "while i < 8:\n",
    "    y = page_json[i]\n",
    "    l.append(y['avgHeight'])\n",
    "    i += 1\n",
    "print(l)\n"
   ]
  },
  {
   "cell_type": "code",
   "execution_count": 2,
   "id": "0a082db8",
   "metadata": {},
   "outputs": [
    {
     "name": "stdout",
     "output_type": "stream",
     "text": [
      "[805941, 805944, 805946, 805949, 805951, 805952, 805954, 805957]\n",
      "6447594\n",
      "[0.3535515810358253, 0.35355223905778727, 0.35355267773841487, 0.35355333575833564, 0.35355377443760244, 0.3535539937770317, 0.3535544324554821, 0.3535550904721371]\n"
     ]
    },
    {
     "data": {
      "image/png": "[encoded data removed]",
      "text/plain": [
       "<Figure size 504x360 with 1 Axes>"
      ]
     },
     "execution_count": 2,
     "metadata": {},
     "output_type": "execute_result"
    }
   ],
   "source": [
    "print(l)\n",
    "a_sum = 0\n",
    "norm = []\n",
    "for i in range(8):\n",
    "    a_sum += l[i]\n",
    "print(a_sum)\n",
    "\n",
    "for i in l:\n",
    "    norm.append((i/a_sum)**0.5)\n",
    "print(norm)\n",
    "    \n",
    "# then the set Norm will be the normalized set of 8 vector amplitudes\n",
    "\n",
    "from qiskit import *\n",
    "from qiskit.visualization import plot_histogram\n",
    "\n",
    "qr = QuantumRegister(3,'qr')\n",
    "cr = ClassicalRegister(3,'cr')\n",
    "qc = QuantumCircuit(qr,cr)\n",
    "\n",
    "qc.initialize(norm, qc.qubits)\n",
    "qc.measure(qr,cr)\n",
    "\n",
    "sim = Aer.get_backend('qasm_simulator')\n",
    "job = execute(qc, sim, shots = 1024)\n",
    "counts = job.result().get_counts()\n",
    "plot_histogram(counts)"
   ]
  },
  {
   "cell_type": "code",
   "execution_count": 3,
   "id": "a0dd8e38",
   "metadata": {},
   "outputs": [
    {
     "data": {
      "text/plain": [
       "[<IBMQSimulator('ibmq_qasm_simulator') from IBMQ(hub='ibm-q', group='open', project='main')>,\n",
       " <IBMQBackend('ibmq_lima') from IBMQ(hub='ibm-q', group='open', project='main')>,\n",
       " <IBMQBackend('ibmq_belem') from IBMQ(hub='ibm-q', group='open', project='main')>,\n",
       " <IBMQBackend('ibmq_quito') from IBMQ(hub='ibm-q', group='open', project='main')>,\n",
       " <IBMQSimulator('simulator_statevector') from IBMQ(hub='ibm-q', group='open', project='main')>,\n",
       " <IBMQSimulator('simulator_mps') from IBMQ(hub='ibm-q', group='open', project='main')>,\n",
       " <IBMQSimulator('simulator_extended_stabilizer') from IBMQ(hub='ibm-q', group='open', project='main')>,\n",
       " <IBMQSimulator('simulator_stabilizer') from IBMQ(hub='ibm-q', group='open', project='main')>,\n",
       " <IBMQBackend('ibmq_jakarta') from IBMQ(hub='ibm-q', group='open', project='main')>,\n",
       " <IBMQBackend('ibmq_manila') from IBMQ(hub='ibm-q', group='open', project='main')>,\n",
       " <IBMQBackend('ibm_lagos') from IBMQ(hub='ibm-q', group='open', project='main')>,\n",
       " <IBMQBackend('ibm_nairobi') from IBMQ(hub='ibm-q', group='open', project='main')>,\n",
       " <IBMQBackend('ibm_perth') from IBMQ(hub='ibm-q', group='open', project='main')>]"
      ]
     },
     "execution_count": 3,
     "metadata": {},
     "output_type": "execute_result"
    }
   ],
   "source": [
    "# Using a real quantum computer\n",
    "\n",
    "from qiskit import IBMQ\n",
    "from qiskit import qiskit, execute, QuantumCircuit\n",
    "\n",
    "# Start by loading your IBMQ API key.\n",
    "IBMQ.enable_account('API Token')\n",
    "# Retrieve a list of providers.\n",
    "IBMQ.providers() # [<AccountProvider for IBMQ(hub='ibm-q', group='open', project='main')>]\n",
    "\n",
    "# Load the provider either by name or by group state.\n",
    "provider = IBMQ.get_provider(hub='ibm-q')\n",
    "provider = IBMQ.get_provider(group='open')\n",
    "\n",
    "# Display the list of available backends.\n",
    "provider.backends()\n"
   ]
  },
  {
   "cell_type": "code",
   "execution_count": 4,
   "id": "28f7547f",
   "metadata": {},
   "outputs": [
    {
     "data": {
      "text/plain": [
       "'ibm_nairobi'"
      ]
     },
     "execution_count": 4,
     "metadata": {},
     "output_type": "execute_result"
    }
   ],
   "source": [
    "backend = provider.backends()[11]\n",
    "backend.name()"
   ]
  },
  {
   "cell_type": "code",
   "execution_count": 5,
   "id": "26752faf",
   "metadata": {},
   "outputs": [
    {
     "data": {
      "text/plain": [
       "<JobStatus.QUEUED: 'job is queued'>"
      ]
     },
     "execution_count": 5,
     "metadata": {},
     "output_type": "execute_result"
    }
   ],
   "source": [
    "job = execute(qc, backend)\n",
    "job.status()"
   ]
  },
  {
   "cell_type": "markdown",
   "id": "13a13120",
   "metadata": {},
   "source": [
    "To be comntinued as below ..."
   ]
  },
  {
   "cell_type": "code",
   "execution_count": 7,
   "id": "d3cc39c5",
   "metadata": {},
   "outputs": [],
   "source": [
    "job.result().get_counts()\n",
    "\n",
    "plot_histogram(counts)"
   ]
  }
 ],
 "metadata": {
  "kernelspec": {
   "display_name": "Python 3",
   "language": "python",
   "name": "python3"
  },
  "language_info": {
   "codemirror_mode": {
    "name": "ipython",
    "version": 3
   },
   "file_extension": ".py",
   "mimetype": "text/x-python",
   "name": "python",
   "nbconvert_exporter": "python",
   "pygments_lexer": "ipython3",
   "version": "3.8.10"
  }
 },
 "nbformat": 4,
 "nbformat_minor": 5
}
