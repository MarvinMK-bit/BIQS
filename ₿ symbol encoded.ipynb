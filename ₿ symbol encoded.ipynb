{
 "cells": [
  {
   "cell_type": "code",
   "execution_count": 1,
   "id": "58d308e4",
   "metadata": {},
   "outputs": [
    {
     "data": {
      "text/latex": [
       "$$\\frac{\\sqrt{3}}{3} |00011110\\rangle+\\frac{\\sqrt{3}}{3} |01000001\\rangle+\\frac{\\sqrt{3}}{3} |01111110\\rangle$$"
      ],
      "text/plain": [
       "<IPython.core.display.Latex object>"
      ]
     },
     "execution_count": 1,
     "metadata": {},
     "output_type": "execute_result"
    }
   ],
   "source": [
    "from qiskit import *\n",
    "from qiskit.visualization import array_to_latex\n",
    "\n",
    "'''To encode the symbol '₿' in the language of quantum computers\n",
    "I will first convert it to its binary equivalent'''\n",
    "\n",
    "# ₿ = 11100010 10000010 10111111 \n",
    "\n",
    "# in decimal it is 226, 130, 191\n",
    "\n",
    "qc = QuantumCircuit(8, 8)\n",
    "qc.initialize([0,0,0,0,0,0,0,0,\n",
    "               0,0,0,0,0,0,0,0,\n",
    "               0,0,0,0,0,0,0,0,\n",
    "               0,0,0,0,0,0,(1/3**0.5),0,\n",
    "               0,0,0,0,0,0,0,0,\n",
    "               0,0,0,0,0,0,0,0,\n",
    "               0,0,0,0,0,0,0,0,\n",
    "               0,0,0,0,0,0,0,0,\n",
    "               0,(1/3**0.5),0,0,0,0,0,0,\n",
    "               0,0,0,0,0,0,0,0,\n",
    "               0,0,0,0,0,0,0,0,\n",
    "               0,0,0,0,0,0,0,0,\n",
    "               0,0,0,0,0,0,0,0,\n",
    "               0,0,0,0,0,0,0,0,\n",
    "               0,0,0,0,0,0,0,0,\n",
    "               0,0,0,0,0,0,(1/3**0.5),0,\n",
    "               0,0,0,0,0,0,0,0,\n",
    "               0,0,0,0,0,0,0,0,\n",
    "               0,0,0,0,0,0,0,0,\n",
    "               0,0,0,0,0,0,0,0,\n",
    "               0,0,0,0,0,0,0,0,\n",
    "               0,0,0,0,0,0,0,0,\n",
    "               0,0,0,0,0,0,0,0,\n",
    "               0,0,0,0,0,0,0,0,\n",
    "               0,0,0,0,0,0,0,0,\n",
    "               0,0,0,0,0,0,0,0,\n",
    "               0,0,0,0,0,0,0,0,\n",
    "               0,0,0,0,0,0,0,0,\n",
    "               0,0,0,0,0,0,0,0,\n",
    "               0,0,0,0,0,0,0,0,\n",
    "               0,0,0,0,0,0,0,0,\n",
    "               0,0,0,0,0,0,0,0,], qc.qubits)\n",
    "\n",
    "sim = Aer.get_backend('statevector_simulator')\n",
    "job = execute(qc, sim)\n",
    "quantum_state = job.result().get_statevector()\n",
    "\n",
    "# Print the quantum state andd compare with the encoding chosen\n",
    "quantum_state.draw('latex')"
   ]
  },
  {
   "cell_type": "markdown",
   "id": "884cafa0",
   "metadata": {},
   "source": [
    "\n",
    "₿ conversion is at \n",
    "\n",
    "https://www.rapidtables.com/convert/number/ascii-to-binary.html\n"
   ]
  },
  {
   "cell_type": "code",
   "execution_count": null,
   "id": "b7115498",
   "metadata": {},
   "outputs": [],
   "source": []
  }
 ],
 "metadata": {
  "kernelspec": {
   "display_name": "Python 3",
   "language": "python",
   "name": "python3"
  },
  "language_info": {
   "codemirror_mode": {
    "name": "ipython",
    "version": 3
   },
   "file_extension": ".py",
   "mimetype": "text/x-python",
   "name": "python",
   "nbconvert_exporter": "python",
   "pygments_lexer": "ipython3",
   "version": "3.8.10"
  }
 },
 "nbformat": 4,
 "nbformat_minor": 5
}
