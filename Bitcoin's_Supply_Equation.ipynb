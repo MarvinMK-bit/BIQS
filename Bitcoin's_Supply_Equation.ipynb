{
 "cells": [
  {
   "cell_type": "code",
   "execution_count": 1,
   "id": "130e6632",
   "metadata": {
    "tags": []
   },
   "outputs": [
    {
     "name": "stderr",
     "output_type": "stream",
     "text": [
      "C:\\Users\\Student5\\anaconda3\\anaconda2\\envs\\QWorld_Summer_School\\lib\\site-packages\\scipy\\__init__.py:146: UserWarning: A NumPy version >=1.16.5 and <1.23.0 is required for this version of SciPy (detected version 1.24.1\n",
      "  warnings.warn(f\"A NumPy version >={np_minversion} and <{np_maxversion}\"\n"
     ]
    },
    {
     "name": "stdout",
     "output_type": "stream",
     "text": [
      "{'00000': 10502540, '00001': 5248759, '00010': 2623646, '00011': 1313062, '00100': 656617, '00101': 327007, '00110': 163762, '00111': 82243, '01000': 41020, '01001': 20514, '01010': 10411, '01011': 5226, '01100': 2576, '01101': 1300, '01110': 646, '01111': 342, '10000': 143, '10001': 98, '10010': 44, '10011': 19, '10100': 17, '10101': 4, '10110': 3, '10111': 1}\n",
      "\n",
      "The Bitcoin supply is 21000000\n"
     ]
    }
   ],
   "source": [
    "from qiskit import QuantumRegister, ClassicalRegister, QuantumCircuit, transpile, assemble, Aer, execute\n",
    "\n",
    "qreg = QuantumRegister(5)\n",
    "creg = ClassicalRegister(5)\n",
    "qc = QuantumCircuit(qreg, creg)\n",
    "qc.initialize([(1/(2**0.5)),(1/(4**0.5)),(1/(8**0.5)),(1/(16**0.5)),(1/(32**0.5)),(1/(64**0.5)),(1/(128**0.5)),(1/(256**0.5)),\n",
    "              (1/(512**0.5)),(1/(1024**0.5)),(1/(2048**0.5)),(1/(4096**0.5)),(1/(8192**0.5)),(1/(16384**0.5)),(1/(32768**0.5)),(1/(65536**0.5)),\n",
    "              (1/(131072**0.5)),(1/(262144**0.5)),(1/(524288**0.5)),(1/(1048576**0.5)),(1/(2097152**0.5)),(1/(4194304**0.5)),(1/(8368608**0.5)),(1/(16777216**0.5)),\n",
    "              (1/(33554432**0.5)),(1/(67108864**0.5)),(1/(134217728**0.5)),(1/(268435456**0.5)),(1/(536870912**0.5)),(1/(1073741824**0.5)),(1/(2147483648**0.5)),(1/(4294967296**0.5))], qc.qubits)\n",
    "\n",
    "qc.measure(qreg, creg)\n",
    "\n",
    "#get counts\n",
    "backend = Aer.get_backend('qasm_simulator')\n",
    "job = execute(qc, backend, shots = 21000000)\n",
    "counts = job.result().get_counts()\n",
    "\n",
    "sorted_counts = sorted(counts.items(), key=lambda x:x[1], reverse=True)\n",
    "converted_counts = dict(sorted_counts)\n",
    "\n",
    "print(converted_counts)\n",
    "print() \n",
    "print('The Bitcoin supply is 21000000')\n"
   ]
  },
  {
   "cell_type": "code",
   "execution_count": 2,
   "id": "5313ab80",
   "metadata": {
    "tags": []
   },
   "outputs": [
    {
     "name": "stdout",
     "output_type": "stream",
     "text": [
      "The Bitcoin supply now is approximately 19474945\n"
     ]
    }
   ],
   "source": [
    "print('The Bitcoin supply now is approximately', counts.get('00000') + counts.get('00001') + counts.get('00010') + 1100000)"
   ]
  },
  {
   "cell_type": "code",
   "execution_count": 3,
   "id": "1ed46a6e",
   "metadata": {},
   "outputs": [
    {
     "data": {
      "image/png": "[encoded data removed]",
      "text/plain": [
       "<Figure size 1122.98x385.28 with 1 Axes>"
      ]
     },
     "execution_count": 3,
     "metadata": {},
     "output_type": "execute_result"
    }
   ],
   "source": [
    "qc.draw('mpl')"
   ]
  },
  {
   "cell_type": "code",
   "execution_count": 4,
   "id": "8dba5207",
   "metadata": {},
   "outputs": [
    {
     "name": "stdout",
     "output_type": "stream",
     "text": [
      "OPENQASM 2.0;\n",
      "include \"qelib1.inc\";\n",
      "gate multiplex1_reverse_reverse_reverse_reverse_dg q0 { ry(7.0314616e-05) q0; }\n",
      "gate multiplex2_reverse_reverse_reverse_dg q0,q1 { multiplex1_reverse_reverse_reverse_dg q0; cx q1,q0; multiplex1_reverse_reverse_reverse_reverse_dg q0; }\n",
      "gate multiplex3_reverse_reverse_dg q0,q1,q2 { multiplex2_reverse_reverse_reverse_dg q0,q1; cx q2,q0; multiplex2_reverse_reverse_dg q0,q1; }\n",
      "gate multiplex1_reverse_reverse_reverse_reverse_reverse_dg q0 { ry(7.0314616e-05) q0; }\n",
      "gate multiplex2_reverse_reverse_reverse_reverse_dg q0,q1 { multiplex1_reverse_reverse_reverse_reverse_reverse_dg q0; cx q1,q0; multiplex1_reverse_reverse_reverse_reverse_dg q0; }\n",
      "gate multiplex3_reverse_reverse_reverse_dg q0,q1,q2 { multiplex2_reverse_reverse_reverse_dg q0,q1; cx q2,q0; multiplex2_reverse_reverse_reverse_reverse_dg q0,q1; }\n",
      "gate multiplex4_reverse_reverse_dg q0,q1,q2,q3 { multiplex3_reverse_reverse_reverse_dg q0,q1,q2; cx q3,q0; multiplex3_reverse_reverse_dg q0,q1,q2; }\n",
      "gate multiplex1_reverse_reverse_dg q0 { ry(-7.0314616e-05) q0; }\n",
      "gate multiplex2_reverse_reverse_dg q0,q1 { multiplex1_reverse_reverse_reverse_dg q0; cx q1,q0; multiplex1_reverse_reverse_dg q0; }\n",
      "gate multiplex1_reverse_reverse_reverse_reverse_dg q0 { ry(-7.0314616e-05) q0; }\n",
      "gate multiplex1_reverse_reverse_reverse_dg q0 { ry(7.0314616e-05) q0; }\n",
      "gate multiplex2_reverse_reverse_reverse_dg q0,q1 { multiplex1_reverse_reverse_reverse_dg q0; cx q1,q0; multiplex1_reverse_reverse_reverse_reverse_dg q0; }\n",
      "gate multiplex3_reverse_reverse_dg q0,q1,q2 { multiplex2_reverse_reverse_reverse_dg q0,q1; cx q2,q0; multiplex2_reverse_reverse_dg q0,q1; }\n",
      "gate multiplex1_reverse_reverse_reverse_dg q0 { ry(-7.0314616e-05) q0; }\n",
      "gate multiplex2_reverse_reverse_dg q0,q1 { multiplex1_reverse_reverse_reverse_dg q0; cx q1,q0; multiplex1_reverse_reverse_dg q0; }\n",
      "gate multiplex1_reverse_reverse_dg q0 { ry(7.0314616e-05) q0; }\n",
      "gate multiplex1_reverse_dg q0 { ry(1.2308891) q0; }\n",
      "gate multiplex2_reverse_dg q0,q1 { multiplex1_reverse_dg q0; cx q1,q0; multiplex1_reverse_reverse_dg q0; }\n",
      "gate multiplex3_reverse_dg q0,q1,q2 { multiplex2_reverse_dg q0,q1; cx q2,q0; multiplex2_reverse_reverse_dg q0,q1; }\n",
      "gate multiplex4_reverse_dg q0,q1,q2,q3 { multiplex3_reverse_dg q0,q1,q2; cx q3,q0; multiplex3_reverse_reverse_dg q0,q1,q2; }\n",
      "gate multiplex5_reverse_dg q0,q1,q2,q3,q4 { multiplex4_reverse_dg q0,q1,q2,q3; cx q4,q0; multiplex4_reverse_reverse_dg q0,q1,q2,q3; cx q4,q0; }\n",
      "gate multiplex1_reverse_reverse_reverse_dg q0 { ry(7.9618402e-05) q0; }\n",
      "gate multiplex2_reverse_reverse_dg q0,q1 { multiplex1_reverse_reverse_reverse_dg q0; cx q1,q0; multiplex1_reverse_reverse_dg q0; }\n",
      "gate multiplex1_reverse_reverse_reverse_reverse_dg q0 { ry(7.9618402e-05) q0; }\n",
      "gate multiplex2_reverse_reverse_reverse_dg q0,q1 { multiplex1_reverse_reverse_reverse_dg q0; cx q1,q0; multiplex1_reverse_reverse_reverse_reverse_dg q0; }\n",
      "gate multiplex3_reverse_reverse_dg q0,q1,q2 { multiplex2_reverse_reverse_reverse_dg q0,q1; cx q2,q0; multiplex2_reverse_reverse_dg q0,q1; }\n",
      "gate multiplex1_reverse_reverse_dg q0 { ry(7.9618402e-05) q0; }\n",
      "gate multiplex1_reverse_reverse_reverse_dg q0 { ry(-7.9618402e-05) q0; }\n",
      "gate multiplex2_reverse_reverse_dg q0,q1 { multiplex1_reverse_reverse_reverse_dg q0; cx q1,q0; multiplex1_reverse_reverse_dg q0; }\n",
      "gate multiplex1_reverse_reverse_dg q0 { ry(-7.9618402e-05) q0; }\n",
      "gate multiplex1_reverse_dg q0 { ry(0.92737484) q0; }\n",
      "gate multiplex2_reverse_dg q0,q1 { multiplex1_reverse_dg q0; cx q1,q0; multiplex1_reverse_reverse_dg q0; }\n",
      "gate multiplex3_reverse_dg q0,q1,q2 { multiplex2_reverse_dg q0,q1; cx q2,q0; multiplex2_reverse_reverse_dg q0,q1; }\n",
      "gate multiplex4_reverse_dg q0,q1,q2,q3 { multiplex3_reverse_dg q0,q1,q2; cx q3,q0; multiplex3_reverse_reverse_dg q0,q1,q2; cx q3,q0; }\n",
      "gate multiplex1_reverse_reverse_dg q0 { ry(-1.8742517e-05) q0; }\n",
      "gate multiplex1_reverse_reverse_reverse_dg q0 { ry(-1.8742517e-05) q0; }\n",
      "gate multiplex2_reverse_reverse_dg q0,q1 { multiplex1_reverse_reverse_reverse_dg q0; cx q1,q0; multiplex1_reverse_reverse_dg q0; }\n",
      "gate multiplex1_reverse_reverse_dg q0 { ry(1.8742517e-05) q0; }\n",
      "gate multiplex1_reverse_dg q0 { ry(0.48997607) q0; }\n",
      "gate multiplex2_reverse_dg q0,q1 { multiplex1_reverse_dg q0; cx q1,q0; multiplex1_reverse_reverse_dg q0; }\n",
      "gate multiplex3_reverse_dg q0,q1,q2 { multiplex2_reverse_dg q0,q1; cx q2,q0; multiplex2_reverse_reverse_dg q0,q1; cx q2,q0; }\n",
      "gate multiplex1_reverse_reverse_dg q0 { ry(5.8346842e-07) q0; }\n",
      "gate multiplex1_reverse_dg q0 { ry(0.12483704) q0; }\n",
      "gate multiplex2_reverse_dg q0,q1 { multiplex1_reverse_dg q0; cx q1,q0; multiplex1_reverse_reverse_dg q0; cx q1,q0; }\n",
      "gate multiplex1_reverse_dg q0 { ry(0.0078125332) q0; }\n",
      "gate disentangler_dg q0,q1,q2,q3,q4 { multiplex1_reverse_dg q4; multiplex2_reverse_dg q3,q4; multiplex3_reverse_dg q2,q3,q4; multiplex4_reverse_dg q1,q2,q3,q4; multiplex5_reverse_dg q0,q1,q2,q3,q4; }\n",
      "gate initialize(param0,param1,param2,param3,param4,param5,param6,param7,param8,param9,param10,param11,param12,param13,param14,param15,param16,param17,param18,param19,param20,param21,param22,param23,param24,param25,param26,param27,param28,param29,param30,param31) q0,q1,q2,q3,q4 { reset q0; reset q1; reset q2; reset q3; reset q4; disentangler_dg q0,q1,q2,q3,q4; }\n",
      "qreg q0[5];\n",
      "creg c0[5];\n",
      "initialize(0.70710678,0.5,0.35355339,0.25,0.1767767,0.125,0.088388348,0.0625,0.044194174,0.03125,0.022097087,0.015625,0.011048543,0.0078125,0.0055242717,0.00390625,0.0027621359,0.001953125,0.0013810679,0.0009765625,0.00069053397,0.00048828125,0.00034567931,0.00024414062,0.00017263349,0.00012207031,8.6316746e-05,6.1035156e-05,4.3158373e-05,3.0517578e-05,2.1579186e-05,1.5258789e-05) q0[0],q0[1],q0[2],q0[3],q0[4];\n",
      "measure q0[0] -> c0[0];\n",
      "measure q0[1] -> c0[1];\n",
      "measure q0[2] -> c0[2];\n",
      "measure q0[3] -> c0[3];\n",
      "measure q0[4] -> c0[4];\n",
      "\n"
     ]
    }
   ],
   "source": [
    "# figure out what gates were used using QASM\n",
    "str = qc.qasm()\n",
    "print(str)"
   ]
  },
  {
   "cell_type": "code",
   "execution_count": null,
   "id": "85ba5b8b",
   "metadata": {},
   "outputs": [],
   "source": [
    "#Coming Soon! ---> Use Quantum Circuit Optimization or Other techniques to simplify the gates used in this simple geometric series"
   ]
  }
 ],
 "metadata": {
  "kernelspec": {
   "display_name": "Python 3",
   "language": "python",
   "name": "python3"
  },
  "language_info": {
   "codemirror_mode": {
    "name": "ipython",
    "version": 3
   },
   "file_extension": ".py",
   "mimetype": "text/x-python",
   "name": "python",
   "nbconvert_exporter": "python",
   "pygments_lexer": "ipython3",
   "version": "3.8.10"
  },
  "widgets": {
   "application/vnd.jupyter.widget-state+json": {
    "state": {},
    "version_major": 2,
    "version_minor": 0
   }
  }
 },
 "nbformat": 4,
 "nbformat_minor": 5
}
