{
 "cells": [
  {
   "cell_type": "code",
   "execution_count": 5,
   "id": "13cd804a",
   "metadata": {
    "tags": []
   },
   "outputs": [
    {
     "name": "stdout",
     "output_type": "stream",
     "text": [
      "Traceback \u001b[1;36m(most recent call last)\u001b[0m:\n",
      "\u001b[1;36m  Cell \u001b[1;32mIn[5], line 15\u001b[1;36m\n",
      "\u001b[1;33m    op = WeightedPauliOperator.from_dict({'paulis': [{'coeff': {'real': 1.0, 'imag': 0.0}, 'label': 'Z'}]})\u001b[1;36m\n",
      "\u001b[1;31mNameError\u001b[0m\u001b[1;31m:\u001b[0m name 'WeightedPauliOperator' is not defined\n",
      "\n",
      "Use %tb to get the full traceback.\n"
     ]
    },
    {
     "data": {
      "text/html": [
       "\n",
       "<style>\n",
       ".button {\n",
       "  border: none;\n",
       "  color: white;\n",
       "  padding: 4px 8px;\n",
       "  text-align: center;\n",
       "  text-decoration: none;\n",
       "  display: inline-block;\n",
       "  font-size: 12px;\n",
       "  margin: 4px 2px;\n",
       "  transition-duration: 0.2s;\n",
       "  cursor: pointer;\n",
       "}\n",
       ".iqx-button {\n",
       "  background-color: #0f62fe; \n",
       "  color: white; \n",
       "}\n",
       ".iqx-button:hover {\n",
       "  background-color: #0043ce;\n",
       "  color: white;\n",
       "}\n",
       "</style>\n",
       "<a href=\"https://stackoverflow.com/search?q=NameError: name 'WeightedPauliOperator' is not defined\" target='_blank'><button class='button iqx-button'>Search for solution online</button></a>\n"
      ],
      "text/plain": [
       "<IPython.core.display.HTML object>"
      ]
     },
     "metadata": {},
     "output_type": "display_data"
    }
   ],
   "source": [
    "\"\"\"ChatGPT's idea\"\"\"\n",
    "\n",
    "from qiskit import Aer\n",
    "from qiskit import QuantumCircuit, transpile, assemble\n",
    "from qiskit.algorithms.optimizers import COBYLA\n",
    "from qiskit.circuit.library import EfficientSU2\n",
    "#from qiskit.aqua import QuantumInstance, aqua_globals\n",
    "#from qiskit.aqua.operators import WeightedPauliOperator\n",
    "#from qiskit.aqua.components.optimizers import SPSA\n",
    "\n",
    "# Define the target series function\n",
    "def target_series(x):\n",
    "    return sum([1 / (2 ** i) for i in range(1, int(x) + 1)])\n",
    "\n",
    "# Construct the Pauli operator for the cost function\n",
    "num_qubits = 1\n",
    "op = WeightedPauliOperator.from_dict({'paulis': [{'coeff': {'real': 1.0, 'imag': 0.0}, 'label': 'Z'}]})\n",
    "op *= target_series(32)\n",
    "\n",
    "# Define the cost function for VQE\n",
    "def cost_function(params):\n",
    "    qc = QuantumCircuit(num_qubits)\n",
    "    qc.h(0)\n",
    "    qc.append(EfficientSU2(num_qubits, reps=1, entanglement='linear', insert_barriers=True), range(num_qubits))\n",
    "    qc.measure_all()\n",
    "    backend = Aer.get_backend('qasm_simulator')\n",
    "    transpiled_circuit = transpile(qc, backend)\n",
    "    qobj = assemble(transpiled_circuit)\n",
    "    counts = backend.run(qobj).result().get_counts()\n",
    "\n",
    "    shots = sum(counts.values())\n",
    "    avg = 0\n",
    "    for output in counts:\n",
    "        prob = counts[output] / shots\n",
    "        x = int(output, 2) / 2 ** num_qubits * 32  # Scale measurement result to the range of the series\n",
    "        avg += prob * target_series(x)\n",
    "    return avg\n",
    "\n",
    "# Set initial parameters and optimizer for VQE\n",
    "num_params = EfficientSU2(num_qubits, reps=1, entanglement='linear', insert_barriers=True).num_parameters\n",
    "initial_params = aqua_globals.random.random(num_params)\n",
    "optimizer = SPSA(maxiter=100, last_avg=1)\n",
    "\n",
    "# Run VQE\n",
    "result = optimizer.optimize(num_vars=num_params, objective_function=cost_function, initial_point=initial_params)\n",
    "\n",
    "# Print the result\n",
    "print(f\"The estimated value of the series is approximately {result[1]}\")\n"
   ]
  },
  {
   "cell_type": "code",
   "execution_count": 13,
   "id": "52ef4fd9",
   "metadata": {
    "tags": []
   },
   "outputs": [
    {
     "name": "stdout",
     "output_type": "stream",
     "text": [
      "Traceback \u001b[1;36m(most recent call last)\u001b[0m:\n",
      "\u001b[0m  Cell \u001b[0;32mIn[13], line 32\u001b[0m\n",
      "    geometric_series_hamiltonian = geometric_series_hamiltonian()\u001b[0m\n",
      "\u001b[1;36m  Cell \u001b[1;32mIn[13], line 24\u001b[1;36m in \u001b[1;35mgeometric_series_hamiltonian\u001b[1;36m\n",
      "\u001b[1;33m    pauli = Pauli.from_label(pauli_str)\u001b[1;36m\n",
      "\u001b[1;31mAttributeError\u001b[0m\u001b[1;31m:\u001b[0m type object 'Pauli' has no attribute 'from_label'\n",
      "\n",
      "Use %tb to get the full traceback.\n"
     ]
    },
    {
     "data": {
      "text/html": [
       "\n",
       "<style>\n",
       ".button {\n",
       "  border: none;\n",
       "  color: white;\n",
       "  padding: 4px 8px;\n",
       "  text-align: center;\n",
       "  text-decoration: none;\n",
       "  display: inline-block;\n",
       "  font-size: 12px;\n",
       "  margin: 4px 2px;\n",
       "  transition-duration: 0.2s;\n",
       "  cursor: pointer;\n",
       "}\n",
       ".iqx-button {\n",
       "  background-color: #0f62fe; \n",
       "  color: white; \n",
       "}\n",
       ".iqx-button:hover {\n",
       "  background-color: #0043ce;\n",
       "  color: white;\n",
       "}\n",
       "</style>\n",
       "<a href=\"https://stackoverflow.com/search?q=AttributeError: type object 'Pauli' has no attribute 'from_label'\" target='_blank'><button class='button iqx-button'>Search for solution online</button></a>\n"
      ],
      "text/plain": [
       "<IPython.core.display.HTML object>"
      ]
     },
     "metadata": {},
     "output_type": "display_data"
    }
   ],
   "source": [
    "#from qiskit_nature.second_q.drivers import PySCFDriver\n",
    "\n",
    "#driver = PySCFDriver(\n",
    "    #atom=\"H 0 0 0; H 0 0 0.72\"  # Two Hydrogen atoms, 0.72 Angstrom apart\n",
    "#)\n",
    "#molecule = driver.run()\n",
    "\n",
    "#from qiskit_nature.second_q.mappers import QubitConverter, ParityMapper\n",
    "\n",
    "#qubit_converter = QubitConverter(ParityMapper())\n",
    "\n",
    "\n",
    "#hamiltonian = qubit_converter.convert(molecule.second_q_ops()[0])\n",
    "\n",
    "from qiskit.opflow import SummedOp, PauliOp\n",
    "from qiskit.quantum_info import Pauli\n",
    "\n",
    "def geometric_series_hamiltonian():\n",
    "    num_qubits = 33  # Number of qubits needed to represent the series up to 4294967296\n",
    "    terms = []\n",
    "    for i in range(num_qubits):\n",
    "        coeff = 1 / (2 ** (i + 1))  # Coefficient corresponding to each qubit\n",
    "        pauli_str = 'I' * i + 'Z' + 'I' * (num_qubits - i - 1)  # Pauli-Z operator on the i-th qubit\n",
    "        pauli = Pauli.from_label(pauli_str)\n",
    "        pauli_op = PauliOp(pauli, coeff)\n",
    "        terms.append(pauli_op)\n",
    "\n",
    "    hamiltonian = SummedOp(terms)\n",
    "    return hamiltonian\n",
    "\n",
    "# Create the geometric series Hamiltonian\n",
    "geometric_series_hamiltonian = geometric_series_hamiltonian()\n",
    "\n",
    "# Print the Hamiltonian\n",
    "print(f\"The geometric series Hamiltonian is:\\n{geometric_series_hamiltonian}\")\n"
   ]
  },
  {
   "cell_type": "code",
   "execution_count": 8,
   "id": "ab7599a5",
   "metadata": {
    "tags": []
   },
   "outputs": [
    {
     "name": "stdout",
     "output_type": "stream",
     "text": [
      "Traceback \u001b[1;36m(most recent call last)\u001b[0m:\n",
      "\u001b[0m  Cell \u001b[0;32mIn[8], line 3\u001b[0m\n",
      "    sol = NumPyMinimumEigensolver().compute_minimum_eigenvalue(geometric_series_hamiltonian)\u001b[0m\n",
      "\u001b[0m  File \u001b[0;32m/opt/conda/lib/python3.10/site-packages/qiskit/algorithms/minimum_eigensolvers/numpy_minimum_eigensolver.py:79\u001b[0m in \u001b[0;35mcompute_minimum_eigenvalue\u001b[0m\n",
      "    eigensolver_result = self._eigensolver.compute_eigenvalues(operator, aux_operators)\u001b[0m\n",
      "\u001b[1;36m  File \u001b[1;32m/opt/conda/lib/python3.10/site-packages/qiskit/algorithms/eigensolvers/numpy_eigensolver.py:238\u001b[1;36m in \u001b[1;35mcompute_eigenvalues\u001b[1;36m\n",
      "\u001b[1;33m    if operator.num_qubits is None or operator.num_qubits < 1:\u001b[1;36m\n",
      "\u001b[1;31mAttributeError\u001b[0m\u001b[1;31m:\u001b[0m 'function' object has no attribute 'num_qubits'\n",
      "\n",
      "Use %tb to get the full traceback.\n"
     ]
    },
    {
     "data": {
      "text/html": [
       "\n",
       "<style>\n",
       ".button {\n",
       "  border: none;\n",
       "  color: white;\n",
       "  padding: 4px 8px;\n",
       "  text-align: center;\n",
       "  text-decoration: none;\n",
       "  display: inline-block;\n",
       "  font-size: 12px;\n",
       "  margin: 4px 2px;\n",
       "  transition-duration: 0.2s;\n",
       "  cursor: pointer;\n",
       "}\n",
       ".iqx-button {\n",
       "  background-color: #0f62fe; \n",
       "  color: white; \n",
       "}\n",
       ".iqx-button:hover {\n",
       "  background-color: #0043ce;\n",
       "  color: white;\n",
       "}\n",
       "</style>\n",
       "<a href=\"https://stackoverflow.com/search?q=AttributeError: 'function' object has no attribute 'num_qubits'\" target='_blank'><button class='button iqx-button'>Search for solution online</button></a>\n"
      ],
      "text/plain": [
       "<IPython.core.display.HTML object>"
      ]
     },
     "metadata": {},
     "output_type": "display_data"
    }
   ],
   "source": [
    "from qiskit.algorithms.minimum_eigensolvers import NumPyMinimumEigensolver\n",
    "\n",
    "sol = NumPyMinimumEigensolver().compute_minimum_eigenvalue(geometric_series_hamiltonian)\n",
    "real_solution = molecule.interpret(sol)\n",
    "\n",
    "real_solution.groundenergy"
   ]
  },
  {
   "cell_type": "code",
   "execution_count": null,
   "id": "b28bded1",
   "metadata": {},
   "outputs": [],
   "source": [
    "from qiskit_ibm_runtime import QiskitRuntimeService, Estimator, Session, Options\n",
    "\n",
    "service = QiskitRuntimeService()\n",
    "\n",
    "backend = \"ibmq_qasm_simulator\""
   ]
  },
  {
   "cell_type": "code",
   "execution_count": null,
   "id": "54b07e70",
   "metadata": {},
   "outputs": [],
   "source": [
    "from qiskit.algorithms.minimum_eigensolvers import VQE\n",
    "\n",
    "# Use RealAmplitudes circuit to create trial states\n",
    "from qiskit.circuit.library import RealAmplitudes\n",
    "\n",
    "ansatz = RealAmplitudes(num_qubits=2, reps=2)\n",
    "\n",
    "# Search for better states using SPSA algorithm\n",
    "from qiskit.algorithms.optimizers import SPSA\n",
    "\n",
    "optimizer = SPSA(150)\n",
    "\n",
    "# Set a starting point for reproduceability\n",
    "import numpy as np\n",
    "\n",
    "np.random.seed(6)\n",
    "initial_point = np.random.uniform(-np.pi, np.pi, 12)\n",
    "\n",
    "# Create an object to store intermediate results\n",
    "from dataclasses import dataclass\n",
    "\n",
    "\n",
    "@dataclass\n",
    "class VQELog:\n",
    "    values: list\n",
    "    parameters: list\n",
    "\n",
    "    def update(self, count, parameters, mean, _metadata):\n",
    "        self.values.append(mean)\n",
    "        self.parameters.append(parameters)\n",
    "        print(f\"Running circuit {count} of ~350\", end=\"\\r\", flush=True)\n",
    "\n",
    "\n",
    "log = VQELog([], [])"
   ]
  },
  {
   "cell_type": "code",
   "execution_count": null,
   "id": "dc69bc40",
   "metadata": {},
   "outputs": [],
   "source": [
    "# Main calculation\n",
    "with Session(service=service, backend=backend) as session:\n",
    "    options = Options()\n",
    "    options.optimization_level = 3\n",
    "\n",
    "    vqe = VQE(\n",
    "        Estimator(session=session, options=options),\n",
    "        ansatz,\n",
    "        optimizer,\n",
    "        callback=log.update,\n",
    "        initial_point=initial_point,\n",
    "    )\n",
    "    result = vqe.compute_minimum_eigenvalue(geometric_series_hamiltonian)\n",
    "    print(\"Experiment complete.\".ljust(30))\n",
    "    print(f\"Raw result: {result.optimal_value}\")\n",
    "\n",
    "    if \"simulator\" not in backend:\n",
    "        # Run once with ZNE error mitigation\n",
    "        options.resilience_level = 2\n",
    "        vqe = VQE(\n",
    "            Estimator(session=session, options=options),\n",
    "            ansatz,\n",
    "            SPSA(1),\n",
    "            initial_point=result.optimal_point,\n",
    "        )\n",
    "        result = vqe.compute_minimum_eigenvalue(geometric_series_hamiltonian)\n",
    "        print(f\"Mitigated result: {result.optimal_value}\")"
   ]
  },
  {
   "cell_type": "code",
   "execution_count": null,
   "id": "1749f22c",
   "metadata": {},
   "outputs": [],
   "source": [
    "import matplotlib.pyplot as plt\n",
    "\n",
    "plt.rcParams[\"font.size\"] = 14\n",
    "\n",
    "# Plot energy and reference value\n",
    "plt.figure(figsize=(12, 6))\n",
    "plt.plot(log.values, label=\"Estimator VQE\")\n",
    "plt.axhline(y=real_solution.groundenergy, color=\"tab:red\", ls=\"--\", label=\"Target\")\n",
    "\n",
    "plt.legend(loc=\"best\")\n",
    "plt.xlabel(\"Iteration\")\n",
    "plt.ylabel(\"Energy [H]\")\n",
    "plt.title(\"VQE energy\")\n",
    "plt.show()"
   ]
  },
  {
   "cell_type": "code",
   "execution_count": 14,
   "id": "ed3a5595",
   "metadata": {
    "tags": []
   },
   "outputs": [
    {
     "ename": "KeyboardInterrupt",
     "evalue": "",
     "output_type": "error",
     "traceback": [
      "\u001b[0;31m---------------------------------------------------------------------------\u001b[0m",
      "\u001b[0;31mKeyboardInterrupt\u001b[0m                         Traceback (most recent call last)",
      "Cell \u001b[0;32mIn[14], line 40\u001b[0m\n\u001b[1;32m     37\u001b[0m block_height \u001b[38;5;241m=\u001b[39m \u001b[38;5;241m700_000\u001b[39m\n\u001b[1;32m     39\u001b[0m \u001b[38;5;66;03m# Calculate the Bitcoin supply at the given block height using Qiskit\u001b[39;00m\n\u001b[0;32m---> 40\u001b[0m bitcoin_supply \u001b[38;5;241m=\u001b[39m \u001b[43mcalculate_bitcoin_supply\u001b[49m\u001b[43m(\u001b[49m\u001b[43mblock_height\u001b[49m\u001b[43m)\u001b[49m\n\u001b[1;32m     42\u001b[0m \u001b[38;5;66;03m# Print the result\u001b[39;00m\n\u001b[1;32m     43\u001b[0m \u001b[38;5;28mprint\u001b[39m(\u001b[38;5;124mf\u001b[39m\u001b[38;5;124m\"\u001b[39m\u001b[38;5;124mThe Bitcoin supply at block height \u001b[39m\u001b[38;5;132;01m{\u001b[39;00mblock_height\u001b[38;5;132;01m}\u001b[39;00m\u001b[38;5;124m is \u001b[39m\u001b[38;5;132;01m{\u001b[39;00mbitcoin_supply\u001b[38;5;132;01m}\u001b[39;00m\u001b[38;5;124m BTC.\u001b[39m\u001b[38;5;124m\"\u001b[39m)\n",
      "Cell \u001b[0;32mIn[14], line 22\u001b[0m, in \u001b[0;36mcalculate_bitcoin_supply\u001b[0;34m(block_height)\u001b[0m\n\u001b[1;32m     20\u001b[0m \u001b[38;5;66;03m# Choose the backend and execute the circuit\u001b[39;00m\n\u001b[1;32m     21\u001b[0m backend \u001b[38;5;241m=\u001b[39m Aer\u001b[38;5;241m.\u001b[39mget_backend(\u001b[38;5;124m'\u001b[39m\u001b[38;5;124mqasm_simulator\u001b[39m\u001b[38;5;124m'\u001b[39m)\n\u001b[0;32m---> 22\u001b[0m transpiled_circuit \u001b[38;5;241m=\u001b[39m \u001b[43mtranspile\u001b[49m\u001b[43m(\u001b[49m\u001b[43mcircuit\u001b[49m\u001b[43m,\u001b[49m\u001b[43m \u001b[49m\u001b[43mbackend\u001b[49m\u001b[43m)\u001b[49m\n\u001b[1;32m     23\u001b[0m qobj \u001b[38;5;241m=\u001b[39m assemble(transpiled_circuit)\n\u001b[1;32m     24\u001b[0m result \u001b[38;5;241m=\u001b[39m execute(qobj, backend)\u001b[38;5;241m.\u001b[39mresult()\n",
      "File \u001b[0;32m/opt/conda/lib/python3.10/site-packages/qiskit/compiler/transpiler.py:380\u001b[0m, in \u001b[0;36mtranspile\u001b[0;34m(circuits, backend, basis_gates, inst_map, coupling_map, backend_properties, initial_layout, layout_method, routing_method, translation_method, scheduling_method, instruction_durations, dt, approximation_degree, timing_constraints, seed_transpiler, optimization_level, callback, output_name, unitary_synthesis_method, unitary_synthesis_plugin_config, target, hls_config, init_method, optimization_method, ignore_backend_supplied_default_methods)\u001b[0m\n\u001b[1;32m    377\u001b[0m     \u001b[38;5;28;01mfor\u001b[39;00m circuit, unique_args \u001b[38;5;129;01min\u001b[39;00m \u001b[38;5;28mzip\u001b[39m(circuits, unique_transpile_args):\n\u001b[1;32m    378\u001b[0m         transpile_config, pass_manager \u001b[38;5;241m=\u001b[39m _combine_args(shared_args, unique_args)\n\u001b[1;32m    379\u001b[0m         output_circuits\u001b[38;5;241m.\u001b[39mappend(\n\u001b[0;32m--> 380\u001b[0m             \u001b[43m_serial_transpile_circuit\u001b[49m\u001b[43m(\u001b[49m\n\u001b[1;32m    381\u001b[0m \u001b[43m                \u001b[49m\u001b[43mcircuit\u001b[49m\u001b[43m,\u001b[49m\n\u001b[1;32m    382\u001b[0m \u001b[43m                \u001b[49m\u001b[43mpass_manager\u001b[49m\u001b[43m,\u001b[49m\n\u001b[1;32m    383\u001b[0m \u001b[43m                \u001b[49m\u001b[43mtranspile_config\u001b[49m\u001b[43m[\u001b[49m\u001b[38;5;124;43m\"\u001b[39;49m\u001b[38;5;124;43mcallback\u001b[39;49m\u001b[38;5;124;43m\"\u001b[39;49m\u001b[43m]\u001b[49m\u001b[43m,\u001b[49m\n\u001b[1;32m    384\u001b[0m \u001b[43m                \u001b[49m\u001b[43mtranspile_config\u001b[49m\u001b[43m[\u001b[49m\u001b[38;5;124;43m\"\u001b[39;49m\u001b[38;5;124;43moutput_name\u001b[39;49m\u001b[38;5;124;43m\"\u001b[39;49m\u001b[43m]\u001b[49m\u001b[43m,\u001b[49m\n\u001b[1;32m    385\u001b[0m \u001b[43m            \u001b[49m\u001b[43m)\u001b[49m\n\u001b[1;32m    386\u001b[0m         )\n\u001b[1;32m    387\u001b[0m     circuits \u001b[38;5;241m=\u001b[39m output_circuits\n\u001b[1;32m    388\u001b[0m end_time \u001b[38;5;241m=\u001b[39m time()\n",
      "File \u001b[0;32m/opt/conda/lib/python3.10/site-packages/qiskit/compiler/transpiler.py:462\u001b[0m, in \u001b[0;36m_serial_transpile_circuit\u001b[0;34m(circuit, pass_manager, callback, output_name)\u001b[0m\n\u001b[1;32m    456\u001b[0m \u001b[38;5;28;01mdef\u001b[39;00m \u001b[38;5;21m_serial_transpile_circuit\u001b[39m(\n\u001b[1;32m    457\u001b[0m     circuit,\n\u001b[1;32m    458\u001b[0m     pass_manager,\n\u001b[1;32m    459\u001b[0m     callback,\n\u001b[1;32m    460\u001b[0m     output_name,\n\u001b[1;32m    461\u001b[0m ):\n\u001b[0;32m--> 462\u001b[0m     result \u001b[38;5;241m=\u001b[39m \u001b[43mpass_manager\u001b[49m\u001b[38;5;241;43m.\u001b[39;49m\u001b[43mrun\u001b[49m\u001b[43m(\u001b[49m\u001b[43mcircuit\u001b[49m\u001b[43m,\u001b[49m\u001b[43m \u001b[49m\u001b[43mcallback\u001b[49m\u001b[38;5;241;43m=\u001b[39;49m\u001b[43mcallback\u001b[49m\u001b[43m,\u001b[49m\u001b[43m \u001b[49m\u001b[43moutput_name\u001b[49m\u001b[38;5;241;43m=\u001b[39;49m\u001b[43moutput_name\u001b[49m\u001b[43m)\u001b[49m\n\u001b[1;32m    463\u001b[0m     \u001b[38;5;28;01mreturn\u001b[39;00m result\n",
      "File \u001b[0;32m/opt/conda/lib/python3.10/site-packages/qiskit/transpiler/passmanager.py:537\u001b[0m, in \u001b[0;36mStagedPassManager.run\u001b[0;34m(self, circuits, output_name, callback)\u001b[0m\n\u001b[1;32m    530\u001b[0m \u001b[38;5;28;01mdef\u001b[39;00m \u001b[38;5;21mrun\u001b[39m(\n\u001b[1;32m    531\u001b[0m     \u001b[38;5;28mself\u001b[39m,\n\u001b[1;32m    532\u001b[0m     circuits: _CircuitsT,\n\u001b[1;32m    533\u001b[0m     output_name: Optional[\u001b[38;5;28mstr\u001b[39m] \u001b[38;5;241m=\u001b[39m \u001b[38;5;28;01mNone\u001b[39;00m,\n\u001b[1;32m    534\u001b[0m     callback: Optional[Callable] \u001b[38;5;241m=\u001b[39m \u001b[38;5;28;01mNone\u001b[39;00m,\n\u001b[1;32m    535\u001b[0m ) \u001b[38;5;241m-\u001b[39m\u001b[38;5;241m>\u001b[39m _CircuitsT:\n\u001b[1;32m    536\u001b[0m     \u001b[38;5;28mself\u001b[39m\u001b[38;5;241m.\u001b[39m_update_passmanager()\n\u001b[0;32m--> 537\u001b[0m     \u001b[38;5;28;01mreturn\u001b[39;00m \u001b[38;5;28;43msuper\u001b[39;49m\u001b[43m(\u001b[49m\u001b[43m)\u001b[49m\u001b[38;5;241;43m.\u001b[39;49m\u001b[43mrun\u001b[49m\u001b[43m(\u001b[49m\u001b[43mcircuits\u001b[49m\u001b[43m,\u001b[49m\u001b[43m \u001b[49m\u001b[43moutput_name\u001b[49m\u001b[43m,\u001b[49m\u001b[43m \u001b[49m\u001b[43mcallback\u001b[49m\u001b[43m)\u001b[49m\n",
      "File \u001b[0;32m/opt/conda/lib/python3.10/site-packages/qiskit/transpiler/passmanager.py:231\u001b[0m, in \u001b[0;36mPassManager.run\u001b[0;34m(self, circuits, output_name, callback)\u001b[0m\n\u001b[1;32m    229\u001b[0m     \u001b[38;5;28;01mreturn\u001b[39;00m circuits\n\u001b[1;32m    230\u001b[0m \u001b[38;5;28;01mif\u001b[39;00m \u001b[38;5;28misinstance\u001b[39m(circuits, QuantumCircuit):\n\u001b[0;32m--> 231\u001b[0m     \u001b[38;5;28;01mreturn\u001b[39;00m \u001b[38;5;28;43mself\u001b[39;49m\u001b[38;5;241;43m.\u001b[39;49m\u001b[43m_run_single_circuit\u001b[49m\u001b[43m(\u001b[49m\u001b[43mcircuits\u001b[49m\u001b[43m,\u001b[49m\u001b[43m \u001b[49m\u001b[43moutput_name\u001b[49m\u001b[43m,\u001b[49m\u001b[43m \u001b[49m\u001b[43mcallback\u001b[49m\u001b[43m)\u001b[49m\n\u001b[1;32m    232\u001b[0m \u001b[38;5;28;01mif\u001b[39;00m \u001b[38;5;28mlen\u001b[39m(circuits) \u001b[38;5;241m==\u001b[39m \u001b[38;5;241m1\u001b[39m:\n\u001b[1;32m    233\u001b[0m     \u001b[38;5;28;01mreturn\u001b[39;00m [\u001b[38;5;28mself\u001b[39m\u001b[38;5;241m.\u001b[39m_run_single_circuit(circuits[\u001b[38;5;241m0\u001b[39m], output_name, callback)]\n",
      "File \u001b[0;32m/opt/conda/lib/python3.10/site-packages/qiskit/transpiler/passmanager.py:292\u001b[0m, in \u001b[0;36mPassManager._run_single_circuit\u001b[0;34m(self, circuit, output_name, callback)\u001b[0m\n\u001b[1;32m    280\u001b[0m \u001b[38;5;124;03m\"\"\"Run all the passes on a ``circuit``.\u001b[39;00m\n\u001b[1;32m    281\u001b[0m \n\u001b[1;32m    282\u001b[0m \u001b[38;5;124;03mArgs:\u001b[39;00m\n\u001b[0;32m   (...)\u001b[0m\n\u001b[1;32m    289\u001b[0m \u001b[38;5;124;03m    The transformed circuit.\u001b[39;00m\n\u001b[1;32m    290\u001b[0m \u001b[38;5;124;03m\"\"\"\u001b[39;00m\n\u001b[1;32m    291\u001b[0m running_passmanager \u001b[38;5;241m=\u001b[39m \u001b[38;5;28mself\u001b[39m\u001b[38;5;241m.\u001b[39m_create_running_passmanager()\n\u001b[0;32m--> 292\u001b[0m result \u001b[38;5;241m=\u001b[39m \u001b[43mrunning_passmanager\u001b[49m\u001b[38;5;241;43m.\u001b[39;49m\u001b[43mrun\u001b[49m\u001b[43m(\u001b[49m\u001b[43mcircuit\u001b[49m\u001b[43m,\u001b[49m\u001b[43m \u001b[49m\u001b[43moutput_name\u001b[49m\u001b[38;5;241;43m=\u001b[39;49m\u001b[43moutput_name\u001b[49m\u001b[43m,\u001b[49m\u001b[43m \u001b[49m\u001b[43mcallback\u001b[49m\u001b[38;5;241;43m=\u001b[39;49m\u001b[43mcallback\u001b[49m\u001b[43m)\u001b[49m\n\u001b[1;32m    293\u001b[0m \u001b[38;5;28mself\u001b[39m\u001b[38;5;241m.\u001b[39mproperty_set \u001b[38;5;241m=\u001b[39m running_passmanager\u001b[38;5;241m.\u001b[39mproperty_set\n\u001b[1;32m    294\u001b[0m \u001b[38;5;28;01mreturn\u001b[39;00m result\n",
      "File \u001b[0;32m/opt/conda/lib/python3.10/site-packages/qiskit/transpiler/runningpassmanager.py:117\u001b[0m, in \u001b[0;36mRunningPassManager.run\u001b[0;34m(self, circuit, output_name, callback)\u001b[0m\n\u001b[1;32m    106\u001b[0m \u001b[38;5;124;03m\"\"\"Run all the passes on a QuantumCircuit\u001b[39;00m\n\u001b[1;32m    107\u001b[0m \n\u001b[1;32m    108\u001b[0m \u001b[38;5;124;03mArgs:\u001b[39;00m\n\u001b[0;32m   (...)\u001b[0m\n\u001b[1;32m    114\u001b[0m \u001b[38;5;124;03m    QuantumCircuit: Transformed circuit.\u001b[39;00m\n\u001b[1;32m    115\u001b[0m \u001b[38;5;124;03m\"\"\"\u001b[39;00m\n\u001b[1;32m    116\u001b[0m name \u001b[38;5;241m=\u001b[39m circuit\u001b[38;5;241m.\u001b[39mname\n\u001b[0;32m--> 117\u001b[0m dag \u001b[38;5;241m=\u001b[39m \u001b[43mcircuit_to_dag\u001b[49m\u001b[43m(\u001b[49m\u001b[43mcircuit\u001b[49m\u001b[43m)\u001b[49m\n\u001b[1;32m    118\u001b[0m \u001b[38;5;28;01mdel\u001b[39;00m circuit\n\u001b[1;32m    120\u001b[0m \u001b[38;5;28;01mif\u001b[39;00m callback:\n",
      "File \u001b[0;32m/opt/conda/lib/python3.10/site-packages/qiskit/converters/circuit_to_dag.py:69\u001b[0m, in \u001b[0;36mcircuit_to_dag\u001b[0;34m(circuit, copy_operations)\u001b[0m\n\u001b[1;32m     67\u001b[0m     op \u001b[38;5;241m=\u001b[39m instruction\u001b[38;5;241m.\u001b[39moperation\n\u001b[1;32m     68\u001b[0m     \u001b[38;5;28;01mif\u001b[39;00m copy_operations:\n\u001b[0;32m---> 69\u001b[0m         op \u001b[38;5;241m=\u001b[39m \u001b[43mcopy\u001b[49m\u001b[38;5;241;43m.\u001b[39;49m\u001b[43mdeepcopy\u001b[49m\u001b[43m(\u001b[49m\u001b[43mop\u001b[49m\u001b[43m)\u001b[49m\n\u001b[1;32m     70\u001b[0m     dagcircuit\u001b[38;5;241m.\u001b[39mapply_operation_back(op, instruction\u001b[38;5;241m.\u001b[39mqubits, instruction\u001b[38;5;241m.\u001b[39mclbits)\n\u001b[1;32m     72\u001b[0m dagcircuit\u001b[38;5;241m.\u001b[39mduration \u001b[38;5;241m=\u001b[39m circuit\u001b[38;5;241m.\u001b[39mduration\n",
      "File \u001b[0;32m/opt/conda/lib/python3.10/copy.py:153\u001b[0m, in \u001b[0;36mdeepcopy\u001b[0;34m(x, memo, _nil)\u001b[0m\n\u001b[1;32m    151\u001b[0m copier \u001b[38;5;241m=\u001b[39m \u001b[38;5;28mgetattr\u001b[39m(x, \u001b[38;5;124m\"\u001b[39m\u001b[38;5;124m__deepcopy__\u001b[39m\u001b[38;5;124m\"\u001b[39m, \u001b[38;5;28;01mNone\u001b[39;00m)\n\u001b[1;32m    152\u001b[0m \u001b[38;5;28;01mif\u001b[39;00m copier \u001b[38;5;129;01mis\u001b[39;00m \u001b[38;5;129;01mnot\u001b[39;00m \u001b[38;5;28;01mNone\u001b[39;00m:\n\u001b[0;32m--> 153\u001b[0m     y \u001b[38;5;241m=\u001b[39m \u001b[43mcopier\u001b[49m\u001b[43m(\u001b[49m\u001b[43mmemo\u001b[49m\u001b[43m)\u001b[49m\n\u001b[1;32m    154\u001b[0m \u001b[38;5;28;01melse\u001b[39;00m:\n\u001b[1;32m    155\u001b[0m     reductor \u001b[38;5;241m=\u001b[39m dispatch_table\u001b[38;5;241m.\u001b[39mget(\u001b[38;5;28mcls\u001b[39m)\n",
      "File \u001b[0;32m/opt/conda/lib/python3.10/site-packages/qiskit/circuit/controlledgate.py:240\u001b[0m, in \u001b[0;36mControlledGate.__deepcopy__\u001b[0;34m(self, _memo)\u001b[0m\n\u001b[1;32m    239\u001b[0m \u001b[38;5;28;01mdef\u001b[39;00m \u001b[38;5;21m__deepcopy__\u001b[39m(\u001b[38;5;28mself\u001b[39m, _memo\u001b[38;5;241m=\u001b[39m\u001b[38;5;28;01mNone\u001b[39;00m):\n\u001b[0;32m--> 240\u001b[0m     cpy \u001b[38;5;241m=\u001b[39m \u001b[43mcopy\u001b[49m\u001b[38;5;241;43m.\u001b[39;49m\u001b[43mcopy\u001b[49m\u001b[43m(\u001b[49m\u001b[38;5;28;43mself\u001b[39;49m\u001b[43m)\u001b[49m\n\u001b[1;32m    241\u001b[0m     cpy\u001b[38;5;241m.\u001b[39mbase_gate \u001b[38;5;241m=\u001b[39m \u001b[38;5;28mself\u001b[39m\u001b[38;5;241m.\u001b[39mbase_gate\u001b[38;5;241m.\u001b[39mcopy()\n\u001b[1;32m    242\u001b[0m     \u001b[38;5;28;01mif\u001b[39;00m \u001b[38;5;28mself\u001b[39m\u001b[38;5;241m.\u001b[39m_definition:\n",
      "File \u001b[0;32m/opt/conda/lib/python3.10/copy.py:102\u001b[0m, in \u001b[0;36mcopy\u001b[0;34m(x)\u001b[0m\n\u001b[1;32m    100\u001b[0m \u001b[38;5;28;01mif\u001b[39;00m \u001b[38;5;28misinstance\u001b[39m(rv, \u001b[38;5;28mstr\u001b[39m):\n\u001b[1;32m    101\u001b[0m     \u001b[38;5;28;01mreturn\u001b[39;00m x\n\u001b[0;32m--> 102\u001b[0m \u001b[38;5;28;01mreturn\u001b[39;00m \u001b[43m_reconstruct\u001b[49m\u001b[43m(\u001b[49m\u001b[43mx\u001b[49m\u001b[43m,\u001b[49m\u001b[43m \u001b[49m\u001b[38;5;28;43;01mNone\u001b[39;49;00m\u001b[43m,\u001b[49m\u001b[43m \u001b[49m\u001b[38;5;241;43m*\u001b[39;49m\u001b[43mrv\u001b[49m\u001b[43m)\u001b[49m\n",
      "File \u001b[0;32m/opt/conda/lib/python3.10/copy.py:265\u001b[0m, in \u001b[0;36m_reconstruct\u001b[0;34m(x, memo, func, args, state, listiter, dictiter, deepcopy)\u001b[0m\n\u001b[1;32m    263\u001b[0m \u001b[38;5;28;01mif\u001b[39;00m deep \u001b[38;5;129;01mand\u001b[39;00m args:\n\u001b[1;32m    264\u001b[0m     args \u001b[38;5;241m=\u001b[39m (deepcopy(arg, memo) \u001b[38;5;28;01mfor\u001b[39;00m arg \u001b[38;5;129;01min\u001b[39;00m args)\n\u001b[0;32m--> 265\u001b[0m y \u001b[38;5;241m=\u001b[39m \u001b[43mfunc\u001b[49m\u001b[43m(\u001b[49m\u001b[38;5;241;43m*\u001b[39;49m\u001b[43margs\u001b[49m\u001b[43m)\u001b[49m\n\u001b[1;32m    266\u001b[0m \u001b[38;5;28;01mif\u001b[39;00m deep:\n\u001b[1;32m    267\u001b[0m     memo[\u001b[38;5;28mid\u001b[39m(x)] \u001b[38;5;241m=\u001b[39m y\n",
      "File \u001b[0;32m/opt/conda/lib/python3.10/copyreg.py:101\u001b[0m, in \u001b[0;36m__newobj__\u001b[0;34m(cls, *args)\u001b[0m\n\u001b[1;32m    100\u001b[0m \u001b[38;5;28;01mdef\u001b[39;00m \u001b[38;5;21m__newobj__\u001b[39m(\u001b[38;5;28mcls\u001b[39m, \u001b[38;5;241m*\u001b[39margs):\n\u001b[0;32m--> 101\u001b[0m     \u001b[38;5;28;01mreturn\u001b[39;00m \u001b[38;5;28;43mcls\u001b[39;49m\u001b[38;5;241;43m.\u001b[39;49m\u001b[38;5;21;43m__new__\u001b[39;49m\u001b[43m(\u001b[49m\u001b[38;5;28;43mcls\u001b[39;49m\u001b[43m,\u001b[49m\u001b[43m \u001b[49m\u001b[38;5;241;43m*\u001b[39;49m\u001b[43margs\u001b[49m\u001b[43m)\u001b[49m\n",
      "\u001b[0;31mKeyboardInterrupt\u001b[0m: "
     ]
    }
   ],
   "source": [
    "from qiskit import QuantumCircuit, transpile, assemble, Aer, execute\n",
    "\n",
    "def calculate_bitcoin_supply(block_height):\n",
    "    # Initialize quantum circuit\n",
    "    circuit = QuantumCircuit(4, 4)\n",
    "\n",
    "    # Apply quantum gates and operations to perform the calculation\n",
    "    circuit.x(0)  # Set qubit 0 to |1>\n",
    "\n",
    "    # Perform the calculation for the given block height\n",
    "    for _ in range(block_height):\n",
    "        circuit.x(0)  # Apply X gate to qubit 0\n",
    "        circuit.cx(0, 1)  # Apply CNOT gate between qubit 0 and 1\n",
    "        circuit.cx(1, 2)  # Apply CNOT gate between qubit 1 and 2\n",
    "        circuit.cx(2, 3)  # Apply CNOT gate between qubit 2 and 3\n",
    "\n",
    "    # Measure the qubits and store the result in classical registers\n",
    "    circuit.measure(range(4), range(4))\n",
    "\n",
    "    # Choose the backend and execute the circuit\n",
    "    backend = Aer.get_backend('qasm_simulator')\n",
    "    transpiled_circuit = transpile(circuit, backend)\n",
    "    qobj = assemble(transpiled_circuit)\n",
    "    result = execute(qobj, backend).result()\n",
    "    counts = result.get_counts()\n",
    "\n",
    "    # Extract the number of 1's from the measurement results\n",
    "    total_ones = sum([counts.get(key, 0) for key in counts.keys() if '1' in key])\n",
    "\n",
    "    # Calculate the Bitcoin supply\n",
    "    total_bitcoins = 21_000_000\n",
    "    supply = total_bitcoins - total_ones\n",
    "\n",
    "    return supply\n",
    "\n",
    "# Specify the block height\n",
    "block_height = 700_000\n",
    "\n",
    "# Calculate the Bitcoin supply at the given block height using Qiskit\n",
    "bitcoin_supply = calculate_bitcoin_supply(block_height)\n",
    "\n",
    "# Print the result\n",
    "print(f\"The Bitcoin supply at block height {block_height} is {bitcoin_supply} BTC.\")\n"
   ]
  },
  {
   "cell_type": "code",
   "execution_count": 2,
   "id": "0b8cc932",
   "metadata": {
    "tags": []
   },
   "outputs": [
    {
     "name": "stdout",
     "output_type": "stream",
     "text": [
      "The sum of the geometric series is approximately (15.34162698927638-4.2674197509029455e-15j)\n"
     ]
    },
    {
     "name": "stderr",
     "output_type": "stream",
     "text": [
      "/tmp/ipykernel_158/2527543219.py:28: DeprecationWarning: The return type of saved statevectors has been changed from a `numpy.ndarray` to a `qiskit.quantum_info.Statevector` as of qiskit-aer 0.10. Accessing numpy array attributes is deprecated and will result in an error in a future release. To continue using saved result objects as arrays you can explicitly cast them using  `np.asarray(object)`.\n",
      "  series_sum = sum(statevector)\n"
     ]
    }
   ],
   "source": [
    "from qiskit import QuantumCircuit, transpile, assemble, Aer, execute\n",
    "\n",
    "def build_geometric_series_circuit():\n",
    "    num_qubits = 8  # Number of qubits needed to represent the series up to 4294967296\n",
    "    circuit = QuantumCircuit(num_qubits)\n",
    "\n",
    "    for i in range(num_qubits):\n",
    "        circuit.h(i)  # Apply Hadamard gate to put qubits into a superposition\n",
    "        circuit.rz(1 / (2 ** (i + 1)), i)  # Rotate qubits around the Z-axis\n",
    "\n",
    "    return circuit\n",
    "\n",
    "# Build the geometric series circuit\n",
    "geometric_series_circuit = build_geometric_series_circuit()\n",
    "\n",
    "# Transpile the circuit for a specific backend\n",
    "backend = Aer.get_backend('statevector_simulator')\n",
    "#transpiled_circuit = transpile(geometric_series_circuit, backend)\n",
    "job = execute(geometric_series_circuit, backend, shots=1)\n",
    "\n",
    "# Run the circuit and obtain the statevector\n",
    "#qobj = assemble(transpiled_circuit)\n",
    "#result = backend.run(qobj).result()\n",
    "result = job.result()\n",
    "statevector = result.get_statevector()\n",
    "\n",
    "# Calculate the sum of the series from the statevector\n",
    "series_sum = sum(statevector)\n",
    "\n",
    "# Print the result\n",
    "print(f\"The sum of the geometric series is approximately {series_sum}\")\n"
   ]
  },
  {
   "cell_type": "code",
   "execution_count": 17,
   "id": "8a3076a4",
   "metadata": {
    "tags": []
   },
   "outputs": [
    {
     "name": "stdout",
     "output_type": "stream",
     "text": [
      "{'00000': 10497965, '00001': 5252151, '00010': 2626223, '00011': 1311167, '00100': 656109, '00101': 328180, '00110': 164390, '00111': 81722, '01000': 41207, '01001': 20548, '01010': 10097, '01011': 5056, '01100': 2549, '01101': 1323, '01110': 673, '01111': 333, '10000': 140, '10001': 83, '10010': 39, '10011': 24, '10100': 10, '10110': 4, '10101': 3, '10111': 2, '11000': 1, '11100': 1}\n",
      "\n",
      "The Bitcoin supply is 21000000\n"
     ]
    }
   ],
   "source": [
    "from qiskit import QuantumRegister, ClassicalRegister, QuantumCircuit, transpile, assemble, Aer, execute\n",
    "\n",
    "qreg = QuantumRegister(5)\n",
    "creg = ClassicalRegister(5)\n",
    "qc = QuantumCircuit(qreg, creg)\n",
    "qc.initialize([(1/(2**0.5)),(1/(4**0.5)),(1/(8**0.5)),(1/(16**0.5)),(1/(32**0.5)),(1/(64**0.5)),(1/(128**0.5)),(1/(256**0.5)),\n",
    "              (1/(512**0.5)),(1/(1024**0.5)),(1/(2048**0.5)),(1/(4096**0.5)),(1/(8192**0.5)),(1/(16384**0.5)),(1/(32768**0.5)),(1/(65536**0.5)),\n",
    "              (1/(131072**0.5)),(1/(262144**0.5)),(1/(524288**0.5)),(1/(1048576**0.5)),(1/(2097152**0.5)),(1/(4194304**0.5)),(1/(8368608**0.5)),(1/(16777216**0.5)),\n",
    "              (1/(33554432**0.5)),(1/(67108864**0.5)),(1/(134217728**0.5)),(1/(268435456**0.5)),(1/(536870912**0.5)),(1/(1073741824**0.5)),(1/(2147483648**0.5)),(1/(4294967296**0.5))], qc.qubits)\n",
    "\n",
    "qc.measure(qreg, creg)\n",
    "\n",
    "#get counts\n",
    "backend = Aer.get_backend('qasm_simulator')\n",
    "job = execute(qc, backend, shots = 21000000)\n",
    "counts = job.result().get_counts()\n",
    "\n",
    "sorted_counts = sorted(counts.items(), key=lambda x:x[1], reverse=True)\n",
    "converted_counts = dict(sorted_counts)\n",
    "\n",
    "print(converted_counts)\n",
    "print() \n",
    "print('The Bitcoin supply is 21000000')\n"
   ]
  },
  {
   "cell_type": "code",
   "execution_count": 21,
   "id": "6923f32b",
   "metadata": {
    "tags": []
   },
   "outputs": [
    {
     "name": "stdout",
     "output_type": "stream",
     "text": [
      "The Bitcoin supply now is approximately 19476339\n"
     ]
    }
   ],
   "source": [
    "print('The Bitcoin supply now is approximately', counts.get('00000') + counts.get('00001') + counts.get('00010') + 1100000)"
   ]
  },
  {
   "cell_type": "code",
   "execution_count": 22,
   "id": "0be89ae5",
   "metadata": {},
   "outputs": [
    {
     "data": {
      "image/png": "[encoded data removed]",
      "text/plain": [
       "<Figure size 1578.53x535.111 with 1 Axes>"
      ]
     },
     "execution_count": 22,
     "metadata": {},
     "output_type": "execute_result"
    }
   ],
   "source": [
    "qc.draw('mpl')"
   ]
  },
  {
   "cell_type": "code",
   "execution_count": 24,
   "id": "0efe338d",
   "metadata": {},
   "outputs": [
    {
     "data": {
      "image/png": "[encoded data removed]",
      "text/plain": [
       "<Figure size 1662.14x535.111 with 1 Axes>"
      ]
     },
     "execution_count": 24,
     "metadata": {},
     "output_type": "execute_result"
    }
   ],
   "source": [
    "qc.decompose().draw('mpl')"
   ]
  },
  {
   "cell_type": "code",
   "execution_count": 4,
   "id": "22fa0ec7",
   "metadata": {},
   "outputs": [
    {
     "name": "stdout",
     "output_type": "stream",
     "text": [
      "OPENQASM 2.0;\n",
      "include \"qelib1.inc\";\n",
      "gate multiplex1_reverse_dg q0 { ry(0.007812592800902652) q0; }\n",
      "gate multiplex1_reverse_dg_140635257243824 q0 { ry(0.12495898719000653) q0; }\n",
      "gate multiplex1_reverse_reverse_dg q0 { ry(-0.00012136719809471147) q0; }\n",
      "gate multiplex2_reverse_dg q0,q1 { multiplex1_reverse_dg_140635257243824 q0; cx q1,q0; multiplex1_reverse_reverse_dg q0; cx q1,q0; }\n",
      "gate multiplex1_reverse_dg_140635253526960 q0 { ry(0.49382686477873) q0; }\n",
      "gate multiplex1_reverse_reverse_dg_140635253526192 q0 { ry(-0.003832053490212761) q0; }\n",
      "gate multiplex2_reverse_dg_140635253522976 q0,q1 { multiplex1_reverse_dg_140635253526960 q0; cx q1,q0; multiplex1_reverse_reverse_dg_140635253526192 q0; }\n",
      "gate multiplex1_reverse_reverse_reverse_dg q0 { ry(0.003832053490212761) q0; }\n",
      "gate multiplex1_reverse_reverse_dg_140635253529312 q0 { ry(-0.003869538525001548) q0; }\n",
      "gate multiplex2_reverse_reverse_dg q0,q1 { multiplex1_reverse_reverse_reverse_dg q0; cx q1,q0; multiplex1_reverse_reverse_dg_140635253529312 q0; }\n",
      "gate multiplex3_reverse_dg q0,q1,q2 { multiplex2_reverse_dg_140635253522976 q0,q1; cx q2,q0; multiplex2_reverse_reverse_dg q0,q1; cx q2,q0; }\n",
      "gate multiplex1_reverse_dg_140635253530368 q0 { ry(0.9423626280531392) q0; }\n",
      "gate multiplex1_reverse_reverse_dg_140635253527776 q0 { ry(-0.015067410051526842) q0; }\n",
      "gate multiplex2_reverse_dg_140635253530512 q0,q1 { multiplex1_reverse_dg_140635253530368 q0; cx q1,q0; multiplex1_reverse_reverse_dg_140635253527776 q0; }\n",
      "gate multiplex1_reverse_reverse_reverse_dg_140635253531088 q0 { ry(0.014908173247219436) q0; }\n",
      "gate multiplex1_reverse_reverse_dg_140635253531136 q0 { ry(-0.014908173247219436) q0; }\n",
      "gate multiplex2_reverse_reverse_dg_140635253531184 q0,q1 { multiplex1_reverse_reverse_reverse_dg_140635253531088 q0; cx q1,q0; multiplex1_reverse_reverse_dg_140635253531136 q0; }\n",
      "gate multiplex3_reverse_dg_140635253528688 q0,q1,q2 { multiplex2_reverse_dg_140635253530512 q0,q1; cx q2,q0; multiplex2_reverse_reverse_dg_140635253531184 q0,q1; }\n",
      "gate multiplex1_reverse_reverse_reverse_dg_140635253528736 q0 { ry(0.01490817324721945) q0; }\n",
      "gate multiplex1_reverse_reverse_reverse_reverse_dg q0 { ry(-0.01490817324721945) q0; }\n",
      "gate multiplex2_reverse_reverse_reverse_dg q0,q1 { multiplex1_reverse_reverse_reverse_dg_140635253528736 q0; cx q1,q0; multiplex1_reverse_reverse_reverse_reverse_dg q0; }\n",
      "gate multiplex1_reverse_reverse_reverse_dg_140635253532432 q0 { ry(0.015067410051526828) q0; }\n",
      "gate multiplex1_reverse_reverse_dg_140635253532624 q0 { ry(-0.015067410051526828) q0; }\n",
      "gate multiplex2_reverse_reverse_dg_140635253532144 q0,q1 { multiplex1_reverse_reverse_reverse_dg_140635253532432 q0; cx q1,q0; multiplex1_reverse_reverse_dg_140635253532624 q0; }\n",
      "gate multiplex3_reverse_reverse_dg q0,q1,q2 { multiplex2_reverse_reverse_reverse_dg q0,q1; cx q2,q0; multiplex2_reverse_reverse_dg_140635253532144 q0,q1; }\n",
      "gate multiplex4_reverse_dg q0,q1,q2,q3 { multiplex3_reverse_dg_140635253528688 q0,q1,q2; cx q3,q0; multiplex3_reverse_reverse_dg q0,q1,q2; cx q3,q0; }\n",
      "gate multiplex1_reverse_dg_140635253533296 q0 { ry(1.2521289095652421) q0; }\n",
      "gate multiplex1_reverse_reverse_dg_140635253533584 q0 { ry(-0.0211694922244674) q0; }\n",
      "gate multiplex2_reverse_dg_140635253533152 q0,q1 { multiplex1_reverse_dg_140635253533296 q0; cx q1,q0; multiplex1_reverse_reverse_dg_140635253533584 q0; }\n",
      "gate multiplex1_reverse_reverse_reverse_dg_140635253533968 q0 { ry(0.021169492224467346) q0; }\n",
      "gate multiplex1_reverse_reverse_dg_140635253534160 q0 { ry(-0.021169492224467346) q0; }\n",
      "gate multiplex2_reverse_reverse_dg_140635253533680 q0,q1 { multiplex1_reverse_reverse_reverse_dg_140635253533968 q0; cx q1,q0; multiplex1_reverse_reverse_dg_140635253534160 q0; }\n",
      "gate multiplex3_reverse_dg_140635253532384 q0,q1,q2 { multiplex2_reverse_dg_140635253533152 q0,q1; cx q2,q0; multiplex2_reverse_reverse_dg_140635253533680 q0,q1; }\n",
      "gate multiplex1_reverse_reverse_reverse_dg_140635253534256 q0 { ry(0.02131012145729788) q0; }\n",
      "gate multiplex1_reverse_reverse_reverse_reverse_dg_140635253534832 q0 { ry(-0.02131012145729788) q0; }\n",
      "gate multiplex2_reverse_reverse_reverse_dg_140635253534304 q0,q1 { multiplex1_reverse_reverse_reverse_dg_140635253534256 q0; cx q1,q0; multiplex1_reverse_reverse_reverse_reverse_dg_140635253534832 q0; }\n",
      "gate multiplex1_reverse_reverse_reverse_dg_140635253535216 q0 { ry(0.02131012145729788) q0; }\n",
      "gate multiplex1_reverse_reverse_dg_140635253535408 q0 { ry(-0.02131012145729788) q0; }\n",
      "gate multiplex2_reverse_reverse_dg_140635253534928 q0,q1 { multiplex1_reverse_reverse_reverse_dg_140635253535216 q0; cx q1,q0; multiplex1_reverse_reverse_dg_140635253535408 q0; }\n",
      "gate multiplex3_reverse_reverse_dg_140635253533920 q0,q1,q2 { multiplex2_reverse_reverse_reverse_dg_140635253534304 q0,q1; cx q2,q0; multiplex2_reverse_reverse_dg_140635253534928 q0,q1; }\n",
      "gate multiplex4_reverse_dg_140635253533056 q0,q1,q2,q3 { multiplex3_reverse_dg_140635253532384 q0,q1,q2; cx q3,q0; multiplex3_reverse_reverse_dg_140635253533920 q0,q1,q2; }\n",
      "gate multiplex1_reverse_reverse_reverse_dg_140635253535888 q0 { ry(0.021310121457297868) q0; }\n",
      "gate multiplex1_reverse_reverse_reverse_reverse_dg_140635253536176 q0 { ry(-0.021310121457297868) q0; }\n",
      "gate multiplex2_reverse_reverse_reverse_dg_140635253535168 q0,q1 { multiplex1_reverse_reverse_reverse_dg_140635253535888 q0; cx q1,q0; multiplex1_reverse_reverse_reverse_reverse_dg_140635253536176 q0; }\n",
      "gate multiplex1_reverse_reverse_reverse_reverse_reverse_dg q0 { ry(0.021310121457297868) q0; }\n",
      "gate multiplex1_reverse_reverse_reverse_reverse_dg_140635253536752 q0 { ry(-0.021310121457297868) q0; }\n",
      "gate multiplex2_reverse_reverse_reverse_reverse_dg q0,q1 { multiplex1_reverse_reverse_reverse_reverse_reverse_dg q0; cx q1,q0; multiplex1_reverse_reverse_reverse_reverse_dg_140635253536752 q0; }\n",
      "gate multiplex3_reverse_reverse_reverse_dg q0,q1,q2 { multiplex2_reverse_reverse_reverse_dg_140635253535168 q0,q1; cx q2,q0; multiplex2_reverse_reverse_reverse_reverse_dg q0,q1; }\n",
      "gate multiplex1_reverse_reverse_reverse_dg_140635253536848 q0 { ry(0.02116949222446736) q0; }\n",
      "gate multiplex1_reverse_reverse_reverse_reverse_dg_140635253537424 q0 { ry(-0.02116949222446736) q0; }\n",
      "gate multiplex2_reverse_reverse_reverse_dg_140635253536896 q0,q1 { multiplex1_reverse_reverse_reverse_dg_140635253536848 q0; cx q1,q0; multiplex1_reverse_reverse_reverse_reverse_dg_140635253537424 q0; }\n",
      "gate multiplex1_reverse_reverse_reverse_dg_140635253537808 q0 { ry(0.02116949222446736) q0; }\n",
      "gate multiplex1_reverse_reverse_dg_140635253538000 q0 { ry(-0.02116949222446736) q0; }\n",
      "gate multiplex2_reverse_reverse_dg_140635253537520 q0,q1 { multiplex1_reverse_reverse_reverse_dg_140635253537808 q0; cx q1,q0; multiplex1_reverse_reverse_dg_140635253538000 q0; }\n",
      "gate multiplex3_reverse_reverse_dg_140635253536512 q0,q1,q2 { multiplex2_reverse_reverse_reverse_dg_140635253536896 q0,q1; cx q2,q0; multiplex2_reverse_reverse_dg_140635253537520 q0,q1; }\n",
      "gate multiplex4_reverse_reverse_dg q0,q1,q2,q3 { multiplex3_reverse_reverse_reverse_dg q0,q1,q2; cx q3,q0; multiplex3_reverse_reverse_dg_140635253536512 q0,q1,q2; }\n",
      "gate multiplex5_reverse_dg q0,q1,q2,q3,q4 { multiplex4_reverse_dg_140635253533056 q0,q1,q2,q3; cx q4,q0; multiplex4_reverse_reverse_dg q0,q1,q2,q3; cx q4,q0; }\n",
      "gate disentangler_dg q0,q1,q2,q3,q4 { multiplex1_reverse_dg q4; multiplex2_reverse_dg q3,q4; multiplex3_reverse_dg q2,q3,q4; multiplex4_reverse_dg q1,q2,q3,q4; multiplex5_reverse_dg q0,q1,q2,q3,q4; }\n",
      "gate state_preparation(param0,param1,param2,param3,param4,param5,param6,param7,param8,param9,param10,param11,param12,param13,param14,param15,param16,param17,param18,param19,param20,param21,param22,param23,param24,param25,param26,param27,param28,param29,param30,param31) q0,q1,q2,q3,q4 { disentangler_dg q0,q1,q2,q3,q4; }\n",
      "qreg q61[5];\n",
      "creg c3[5];\n",
      "reset q61[0];\n",
      "reset q61[1];\n",
      "reset q61[2];\n",
      "reset q61[3];\n",
      "reset q61[4];\n",
      "state_preparation(0.7071067811865475,0.5,0.35355339059327373,0.25,0.17677669529663687,0.125,0.08838834764831843,0.0625,0.044194173824159216,0.03125,0.022097086912079608,0.015625,0.011048543456039804,0.0078125,0.005524271728019902,0.00390625,0.002762135864009951,0.001953125,0.0013810679320049755,0.0009765625,0.0006905339660024878,0.00048828125,0.00034567931076489276,0.000244140625,0.00017263349150062194,0.0001220703125,8.631674575031097e-05,6.103515625e-05,4.3158372875155485e-05,3.0517578125e-05,2.1579186437577742e-05,2.1579186437577742e-05) q61[0],q61[1],q61[2],q61[3],q61[4];\n",
      "measure q61[0] -> c3[0];\n",
      "measure q61[1] -> c3[1];\n",
      "measure q61[2] -> c3[2];\n",
      "measure q61[3] -> c3[3];\n",
      "measure q61[4] -> c3[4];\n",
      "\n"
     ]
    }
   ],
   "source": [
    "from qiskit import QuantumRegister, ClassicalRegister, QuantumCircuit, transpile, assemble, Aer, execute\n",
    "\n",
    "qreg = QuantumRegister(5)\n",
    "creg = ClassicalRegister(5)\n",
    "\n",
    "qc_1 = QuantumCircuit(qreg, creg)\n",
    "qc_1.initialize([(1/(2**0.5)),(1/(4**0.5)),(1/(8**0.5)),(1/(16**0.5)),(1/(32**0.5)),(1/(64**0.5)),(1/(128**0.5)),(1/(256**0.5)),\n",
    "              (1/(512**0.5)),(1/(1024**0.5)),(1/(2048**0.5)),(1/(4096**0.5)),(1/(8192**0.5)),(1/(16384**0.5)),(1/(32768**0.5)),(1/(65536**0.5)),\n",
    "              (1/(131072**0.5)),(1/(262144**0.5)),(1/(524288**0.5)),(1/(1048576**0.5)),(1/(2097152**0.5)),(1/(4194304**0.5)),(1/(8368608**0.5)),(1/(16777216**0.5)),\n",
    "              (1/(33554432**0.5)),(1/(67108864**0.5)),(1/(134217728**0.5)),(1/(268435456**0.5)),(1/(536870912**0.5)),(1/(1073741824**0.5)),(1/(2147483648**0.5)),(1/(2147483648**0.5))], qc_1.qubits)\n",
    "qc_1.measure(qreg, creg)\n",
    "qc1 = qc_1.decompose()\n",
    "\n",
    "str = qc1.qasm()\n",
    "print(str)"
   ]
  },
  {
   "cell_type": "code",
   "execution_count": null,
   "id": "1621b0ea",
   "metadata": {},
   "outputs": [],
   "source": []
  }
 ],
 "metadata": {
  "kernelspec": {
   "display_name": "Python 3",
   "language": "python",
   "name": "python3"
  },
  "language_info": {
   "codemirror_mode": {
    "name": "ipython",
    "version": 3
   },
   "file_extension": ".py",
   "mimetype": "text/x-python",
   "name": "python",
   "nbconvert_exporter": "python",
   "pygments_lexer": "ipython3",
   "version": "3.8.10"
  },
  "widgets": {
   "application/vnd.jupyter.widget-state+json": {
    "state": {},
    "version_major": 2,
    "version_minor": 0
   }
  }
 },
 "nbformat": 4,
 "nbformat_minor": 5
}
